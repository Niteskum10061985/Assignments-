{
 "cells": [
  {
   "cell_type": "markdown",
   "id": "e1826ce6",
   "metadata": {},
   "source": [
    "1. How do you distinguish between shutil.copy() and shutil.copytree()?\n",
    "Ans: shutil.copy() - copies one file from source to destination. shutil.copytree() will copy the entire folder with all files to the destination\n",
    "\n",
    "2. What function is used to rename files??\n",
    "rename()\n",
    "\n",
    "3. What is the difference between the delete functions in the send2trash and shutil modules?\n",
    "Ans: Send2trash deletes file & it is sent to recycle bin & can be undone/recovered if delete action performed accidently.\n",
    "delete or remove() fles deletes file permanently & cannot be recovered \n",
    "\n",
    "4.ZipFile objects have a close() method just like File objects’ close() method. What ZipFile method is equivalent to File objects’ open() method?\n",
    "Ans: zip.extractall()\n",
    "5. Create a programme that searches a folder tree for files with a certain file extension (such as .pdf or .jpg). Copy these files from whatever location they are in to a new folder.\n",
    "Ans:\n",
    "import os\n",
    "a = os.listdir()\n",
    "l = []\n",
    "for i in a:\n",
    "    if i.endswith('.pdf'):\n",
    "        l.append(i)\n",
    "print(l)\n"
   ]
  }
 ],
 "metadata": {
  "kernelspec": {
   "display_name": "Python 3 (ipykernel)",
   "language": "python",
   "name": "python3"
  },
  "language_info": {
   "codemirror_mode": {
    "name": "ipython",
    "version": 3
   },
   "file_extension": ".py",
   "mimetype": "text/x-python",
   "name": "python",
   "nbconvert_exporter": "python",
   "pygments_lexer": "ipython3",
   "version": "3.9.7"
  }
 },
 "nbformat": 4,
 "nbformat_minor": 5
}
