{
 "cells": [
  {
   "cell_type": "markdown",
   "id": "4725e490",
   "metadata": {},
   "source": [
    "1. In the below elements which of them are values or an expression? eg:- values can be integer or string and expressions will be mathematical operators.\n",
    "*  > Expression\n",
    "'hello' > String\n",
    "-87.8 > Integer\n",
    "-  > Expression \n",
    "/  > Expression\n",
    "+\t> Expression\n",
    "6 >Integer\n"
   ]
  },
  {
   "cell_type": "markdown",
   "id": "e497c862",
   "metadata": {},
   "source": [
    "2. What is the difference between string and variable?\n",
    "String is some value repesenting a data/text\n",
    "\n",
    "Variable is something assigned value to a data type\n"
   ]
  },
  {
   "cell_type": "markdown",
   "id": "a29ef037",
   "metadata": {},
   "source": [
    "3. Describe three different data types.\n",
    "String >> 'Nitesh', Usally a text ot statement\n",
    "Boolean >> True , False : This represents conditions of a statement/logic. Represented as 0 or 1\n",
    "Float >> 434.46 - Decimal number \n"
   ]
  },
  {
   "cell_type": "markdown",
   "id": "86c8bdb6",
   "metadata": {},
   "source": [
    "4. What is an expression made up of? What do all expressions do?\n",
    "Expressions are mathematical operators. They perform caluculation.\n",
    "Ex. +, -, /"
   ]
  },
  {
   "cell_type": "markdown",
   "id": "72eaba9e",
   "metadata": {},
   "source": [
    "5. This assignment statements, like spam = 10. What is the difference between an expression and a statement?\n",
    "Ans:\n",
    "spam = 10 is a statement when value of 10 is being assigned to spam. We call call it as a assignment statement.\n",
    "Here '=' sign is as expression"
   ]
  },
  {
   "cell_type": "markdown",
   "id": "16643c0b",
   "metadata": {},
   "source": [
    "6. After running the following code, what does the variable bacon contain?\n",
    "bacon = 22\n",
    "bacon+1\n",
    "\n",
    "Ans : 23"
   ]
  },
  {
   "cell_type": "markdown",
   "id": "fa14469c",
   "metadata": {},
   "source": [
    "7. What should the values of the following two terms be?\n",
    "'spam' + 'spamspam'\n",
    "'spam' * 3\n",
    "Ans: 'spamspamspam'. Both have same result"
   ]
  },
  {
   "cell_type": "markdown",
   "id": "5f8e7d26",
   "metadata": {},
   "source": [
    "8. Why is eggs a valid variable name while 100 is invalid?\n",
    "\n",
    "Could not understand"
   ]
  },
  {
   "cell_type": "markdown",
   "id": "0736d409",
   "metadata": {},
   "source": [
    "9. What three functions can be used to get the integer, floating-point number, or string version of a value?\n",
    "\n",
    "Ans:\n",
    "intger - int()\n",
    "floating number - float()\n",
    "string - str()"
   ]
  },
  {
   "cell_type": "markdown",
   "id": "3742063a",
   "metadata": {},
   "source": [
    "# 10. Why does this expression cause an error? How can you fix it?\n",
    "'I have eaten ' + 99 + ' burritos.'\n",
    "\n",
    "Ans: Here '99' is an intger & it cannot be added to a string"
   ]
  },
  {
   "cell_type": "code",
   "execution_count": null,
   "id": "a2e98f3e",
   "metadata": {},
   "outputs": [],
   "source": []
  },
  {
   "cell_type": "code",
   "execution_count": null,
   "id": "20d98ace",
   "metadata": {},
   "outputs": [],
   "source": []
  }
 ],
 "metadata": {
  "kernelspec": {
   "display_name": "Python 3 (ipykernel)",
   "language": "python",
   "name": "python3"
  },
  "language_info": {
   "codemirror_mode": {
    "name": "ipython",
    "version": 3
   },
   "file_extension": ".py",
   "mimetype": "text/x-python",
   "name": "python",
   "nbconvert_exporter": "python",
   "pygments_lexer": "ipython3",
   "version": "3.9.7"
  }
 },
 "nbformat": 4,
 "nbformat_minor": 5
}
