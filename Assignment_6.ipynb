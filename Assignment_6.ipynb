{
 "cells": [
  {
   "cell_type": "markdown",
   "id": "4dedb54a",
   "metadata": {},
   "source": [
    "1. What are escape characters, and how do you use them?\n",
    "Ans: To insert characters that are illegal in a string, we use escape character.An escape character is a \n",
    "    backslash \\ followed by the character you want to insert.\n",
    "    EX. print(\"this is my \\\"favourite\\\" book\")\n",
    "    Output : this is my \"favourite\" book\n",
    "    \n",
    "2. What do the escape characters n and t stand for?\n",
    "Ans: n > new line , t> tab\n",
    "\n",
    "3. What is the way to include backslash characters in a string?\n",
    "Ans: we can use escape character \\\n",
    "    EX. print(\"this is my \\\\ book\")\n",
    "    Output : this is my \\ book\n",
    "\n",
    "4. The string \"Howl's Moving Castle\" is a correct value. Why isn't the single quote character in the word Howl's not escaped\n",
    "a problem?\n",
    "Ans: Because start of the quote is a double quote & it will keep the string as valid till it ends with a double quote only\n",
    "\n",
    "5. How do you write a string of newlines if you don't want to use the n character?\n",
    "Ans: end = ''\n",
    "\n",
    "6. What are the values of the given expressions?\n",
    "'Hello, world!'[1] > 'e'\n",
    "'Hello, world!'[0:5] > 'Hello'\n",
    "'Hello, world!'[:5] > 'Hello'\n",
    "'Hello, world!'[3:] >'lo, world!'\n",
    "\n",
    "7. What are the values of the following expressions?\n",
    "'Hello'.upper() >> 'HELLO'\n",
    "'Hello'.upper().isupper() >>TRUE\n",
    "'Hello'.upper().lower() >> 'hello'\n",
    "\n",
    "8. What are the values of the following expressions?\n",
    "'Remember, remember, the fifth of July.'.split() >> ['Remember,', 'remember,', 'the', 'fifth', 'of', 'July.']\n",
    "'-'.join('There can only one.'.split()) >> 'There-can-only-one.'\n",
    "\n",
    "9. What are the methods for right-justifying, left-justifying, and centering a string?\n",
    "Ans: ljust(), rjust(), center()\n",
    "\n",
    "10. What is the best way to remove whitespace characters from the start or end?\n",
    "Ans: Using strip : sentence.strip()\n",
    "\n"
   ]
  }
 ],
 "metadata": {
  "kernelspec": {
   "display_name": "Python 3 (ipykernel)",
   "language": "python",
   "name": "python3"
  },
  "language_info": {
   "codemirror_mode": {
    "name": "ipython",
    "version": 3
   },
   "file_extension": ".py",
   "mimetype": "text/x-python",
   "name": "python",
   "nbconvert_exporter": "python",
   "pygments_lexer": "ipython3",
   "version": "3.9.7"
  }
 },
 "nbformat": 4,
 "nbformat_minor": 5
}
