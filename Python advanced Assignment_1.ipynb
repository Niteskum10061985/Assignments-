{
 "cells": [
  {
   "cell_type": "markdown",
   "id": "7f393a34",
   "metadata": {},
   "source": [
    "Q1. What is the purpose of Python's OOP?\n",
    "Ans:Python OOPs concept gives the ability to write a code in structured way wherein millions of lines of code can be written in form of objects, classes. \n",
    "\n",
    "This helps usability of the code for other coders. Easy to understand & implement.\n",
    "\n",
    "\n",
    "Q2. Where does an inheritance search look for an attribute?\n",
    "Ans: Inside the class name defined.\n",
    "\n",
    "\n",
    "Q3. How do you distinguish between a class object and an instance object?\n",
    "Ans: Class object will have a contructor - __init__. Represented without()\n",
    "     Instance object will not. Shown by () like a function \n",
    "\n",
    "\n",
    "Q4. What makes the first argument in a class’s method function special?\n",
    "Ans:It adds a constructor which acts as a pointer to the code.\n",
    "\n",
    "Q5. What is the purpose of the __init__ method?\n",
    "Ans: It acts a constructor.The purpose of the __init__ () method is to initialize the class. It is usually responsible for populating the instance variables\n",
    "\n",
    "\n",
    "Q6. What is the process for creating a class instance?\n",
    "Ans: Call the class & pass whatever argument you need to pass\n",
    "\n",
    "\n",
    "Q7. What is the process for creating a class?\n",
    "Ans: When we define a class name, a class object is created which itself access all attributes attached to it as well as to instantiate other objects. \n",
    "\n",
    "\n",
    "Q8. How would you define the superclasses of a class?\n",
    "Ans: Superclass of a class contains all the classes\n"
   ]
  }
 ],
 "metadata": {
  "kernelspec": {
   "display_name": "Python 3 (ipykernel)",
   "language": "python",
   "name": "python3"
  },
  "language_info": {
   "codemirror_mode": {
    "name": "ipython",
    "version": 3
   },
   "file_extension": ".py",
   "mimetype": "text/x-python",
   "name": "python",
   "nbconvert_exporter": "python",
   "pygments_lexer": "ipython3",
   "version": "3.9.7"
  }
 },
 "nbformat": 4,
 "nbformat_minor": 5
}
