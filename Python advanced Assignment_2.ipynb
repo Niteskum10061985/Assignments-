{
 "cells": [
  {
   "cell_type": "markdown",
   "id": "d44f4510",
   "metadata": {},
   "source": [
    "Q1. What is the relationship between classes and modules?\n",
    "Ans: Every class is a module but modules cannot be classes\n",
    "\n",
    "\n",
    "Q2. How do you make instances and classes?\n",
    "Ans: \n",
    "\n",
    "\n",
    "Q3. Where and how should be class attributes created?\n",
    "Ans: Inside a class, after initiating the class with __init__\n",
    "\n",
    "\n",
    "Q4. Where and how are instance attributes created?\n",
    "Ans: Instance attributes are created inside class. With initiation of modulator, attributes are creatde which are called through the class\n",
    "\n",
    "\n",
    "Q5. What does the term \"self\" in a Python class mean?\n",
    "Ans:Self acts as modulator which initialises the class.\n",
    "\n",
    "\n",
    "Q6. How does a Python class handle operator overloading?\n",
    "Ans: It handles operator overlaoding by the object through whoch the class is called.\n",
    "\n",
    "\n",
    "Q7. When do you consider allowing operator overloading of your classes?\n",
    "Ans: In case we want a new output but we want the nature of the output to be same\n",
    "\n",
    "\n",
    "Q8. What is the most popular form of operator overloading?\n",
    "Ans: Addition ('+')\n",
    "\n",
    "\n",
    "Q9. What are the two most important concepts to grasp in order to comprehend Python OOP code?\n",
    "Ans: Inheritance & Encapsulation"
   ]
  }
 ],
 "metadata": {
  "kernelspec": {
   "display_name": "Python 3 (ipykernel)",
   "language": "python",
   "name": "python3"
  },
  "language_info": {
   "codemirror_mode": {
    "name": "ipython",
    "version": 3
   },
   "file_extension": ".py",
   "mimetype": "text/x-python",
   "name": "python",
   "nbconvert_exporter": "python",
   "pygments_lexer": "ipython3",
   "version": "3.9.7"
  }
 },
 "nbformat": 4,
 "nbformat_minor": 5
}
