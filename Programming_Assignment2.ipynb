{
 "cells": [
  {
   "cell_type": "code",
   "execution_count": null,
   "id": "474b01e7",
   "metadata": {},
   "outputs": [],
   "source": [
    "1.\tWrite a Python program to convert kilometers to miles?\n",
    "    def nit1(a):\n",
    "    \"\"\"Program to convert kilometers to miles\"\"\"\n",
    "        b = a*1.5\n",
    "        return b\n",
    "2.\tWrite a Python program to convert Celsius to Fahrenheit?\n",
    "    def nit1(a):\n",
    "    \"\"\"Program to convert Celsius to Fahrenheit\"\"\"\n",
    "        F = (a * 9 / 5) + 32\n",
    "        return F\n",
    "    \n",
    "3.\tWrite a Python program to display calendar?\n",
    "    def nit2(year):\n",
    "        \"\"\"Program to display calendar\"\"\"\n",
    "        import calendar\n",
    "        i=1\n",
    "        while (i<=12):\n",
    "            month = i \n",
    "            print(calendar.month(year,month))\n",
    "            i=i+1\n",
    "    \n",
    "4.\tWrite a Python program to solve quadratic equation?\n",
    "\n",
    "5.\tWrite a Python program to swap two variables without temp variable?\n",
    "     def nit3(x,y):\n",
    "    \"\"\"program to swap two variables\"\"\" \n",
    "        x = x+y\n",
    "        y =x-y\n",
    "        x = x-y\n",
    "        return x,y\n"
   ]
  },
  {
   "cell_type": "code",
   "execution_count": null,
   "id": "3954fda3",
   "metadata": {},
   "outputs": [],
   "source": []
  }
 ],
 "metadata": {
  "kernelspec": {
   "display_name": "Python 3 (ipykernel)",
   "language": "python",
   "name": "python3"
  },
  "language_info": {
   "codemirror_mode": {
    "name": "ipython",
    "version": 3
   },
   "file_extension": ".py",
   "mimetype": "text/x-python",
   "name": "python",
   "nbconvert_exporter": "python",
   "pygments_lexer": "ipython3",
   "version": "3.9.7"
  }
 },
 "nbformat": 4,
 "nbformat_minor": 5
}
