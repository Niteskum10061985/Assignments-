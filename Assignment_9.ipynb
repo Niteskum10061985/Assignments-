{
 "cells": [
  {
   "cell_type": "code",
   "execution_count": null,
   "id": "eccda576",
   "metadata": {},
   "outputs": [],
   "source": [
    "1. To what does a relative path refer?\n",
    "Ans: A relative path is a path that describes the location of a file or folder relative to the \n",
    "    current working directory\n",
    "\n",
    "2. What does an absolute path start with your operating system?\n",
    "And: it resembles root \n",
    "3. What do the functions os.getcwd() and os.chdir() do?\n",
    "Ans: os.getcwd() : Gives current working directory \n",
    "        os.chdir() : help to change directory\n",
    "4. What are the . and .. folders?\n",
    "And:  '.' - resolves to the current directory\n",
    "    '..' - resolves to the parent directory \n",
    "\n",
    "5. In C:\\bacon\\eggs\\spam.txt, which part is the dir name, and which part is the base name?\n",
    "Ans:Dir NAme = C:\\bacon\\eggs, base name - spam.txt\n",
    "6. What are the three “mode” arguments that can be passed to the open() function?\n",
    "\n",
    "7. What happens if an existing file is opened in write mode?\n",
    "Ans: We can perform write operation \n",
    "    \n",
    "8. How do you tell the difference between read() and readlines()?\n",
    "Ans: Read() reads complete data in a text,docx file in one go, readlines() read line by line \n",
    "\n",
    "9. What data structure does a shelf value resemble?\n",
    "Ans:Pointers\n"
   ]
  }
 ],
 "metadata": {
  "kernelspec": {
   "display_name": "Python 3 (ipykernel)",
   "language": "python",
   "name": "python3"
  },
  "language_info": {
   "codemirror_mode": {
    "name": "ipython",
    "version": 3
   },
   "file_extension": ".py",
   "mimetype": "text/x-python",
   "name": "python",
   "nbconvert_exporter": "python",
   "pygments_lexer": "ipython3",
   "version": "3.9.7"
  }
 },
 "nbformat": 4,
 "nbformat_minor": 5
}
