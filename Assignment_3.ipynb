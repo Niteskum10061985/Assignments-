{
 "cells": [
  {
   "cell_type": "code",
   "execution_count": null,
   "id": "35402174",
   "metadata": {},
   "outputs": [],
   "source": [
    "1. Why are functions advantageous to have in your programs?\n",
    "Ans: They can be used mutiple times in a program without writing the complete code several times\n",
    "2. When does the code in a function run: when it's specified or when it's called?\n",
    "Ans:when it is called\n",
    "3. What statement creates a function?\n",
    "Ans: def\n",
    "4. What is the difference between a function and a function call?\n",
    "Ans: funtion is a process which is inbuilt or we build it with a specific name for a specific task. Funtion call is when we ask the exceution of that function\n",
    "5. How many global scopes are there in a Python program? How many local scopes?\n",
    "Ans:Any number \n",
    "6. What happens to variables in a local scope when the function call returns?\n",
    "Ans:No Change\n",
    "7. What is the concept of a return value? Is it possible to have a return value in an expression?\n",
    "Ans:It gives correct datatype of the output. \n",
    "8. If a function does not have a return statement, what is the return value of a call to that function?\n",
    "Ans: Its remain the same\n",
    "9. How do you make a function variable refer to the global variable?\n",
    "10. What is the data type of None?\n",
    "Ans:NoneType\n",
    "11. What does the sentence import areallyourpetsnamederic do?\n",
    "Ans: Nothing, error- no such module \n",
    "12. If you had a bacon() feature in a spam module, what would you call it after importing spam?\n",
    "Ans:\n",
    "13. What can you do to save a programme from crashing if it encounters an error?\n",
    "Ans: Use exception handling\n",
    "14. What is the purpose of the try clause? What is the purpose of the except clause?\n",
    "Ans:Try takes exception raised if any & except clause runs the code without hampering the execution of the code\n"
   ]
  },
  {
   "cell_type": "code",
   "execution_count": null,
   "id": "4835d24a",
   "metadata": {},
   "outputs": [],
   "source": []
  }
 ],
 "metadata": {
  "kernelspec": {
   "display_name": "Python 3 (ipykernel)",
   "language": "python",
   "name": "python3"
  },
  "language_info": {
   "codemirror_mode": {
    "name": "ipython",
    "version": 3
   },
   "file_extension": ".py",
   "mimetype": "text/x-python",
   "name": "python",
   "nbconvert_exporter": "python",
   "pygments_lexer": "ipython3",
   "version": "3.9.7"
  }
 },
 "nbformat": 4,
 "nbformat_minor": 5
}
