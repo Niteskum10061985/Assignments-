{
 "cells": [
  {
   "cell_type": "code",
   "execution_count": null,
   "id": "b685f420",
   "metadata": {},
   "outputs": [],
   "source": [
    "1.\tWrite a Python program to print \"Hello Python\"?\n",
    "    def nit1():\n",
    "    '''Program to print \"Hello Python\" '''\n",
    "    print(\"Hello Python\")\n",
    "    \n",
    "2.\tWrite a Python program to do arithmetical operations addition and division.?\n",
    "    def nit2(a,b):\n",
    "    c= a+b\n",
    "    d= a//b\n",
    "    return c,d\n",
    "    \n",
    "3.\tWrite a Python program to find the area of a triangle?\n",
    "    def aoftrianle(b,h):\n",
    "    \"\"\"program to find the area of a triangle\"\"\"\n",
    "    Area = (1/2)*b*h\n",
    "    return Area\n",
    "    \n",
    "4.\tWrite a Python program to swap two variables?\n",
    "    def nit3(a,b):\n",
    "    \"\"\"program to swap two variables\"\"\"\n",
    "        c = 0 \n",
    "        c , b = b, a\n",
    "        a = c\n",
    "        return a,b\n",
    "\n",
    "5.\tWrite a Python program to generate a random number?\n",
    "    def gen(a):\n",
    "    \"\"\"Program to generate a random number\"\"\"\n",
    "    return(a)\n"
   ]
  }
 ],
 "metadata": {
  "kernelspec": {
   "display_name": "Python 3 (ipykernel)",
   "language": "python",
   "name": "python3"
  },
  "language_info": {
   "codemirror_mode": {
    "name": "ipython",
    "version": 3
   },
   "file_extension": ".py",
   "mimetype": "text/x-python",
   "name": "python",
   "nbconvert_exporter": "python",
   "pygments_lexer": "ipython3",
   "version": "3.9.7"
  }
 },
 "nbformat": 4,
 "nbformat_minor": 5
}
