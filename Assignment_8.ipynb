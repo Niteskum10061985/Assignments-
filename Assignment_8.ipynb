{
 "cells": [
  {
   "cell_type": "code",
   "execution_count": null,
   "id": "ef3c7ae7",
   "metadata": {},
   "outputs": [],
   "source": [
    "1. Is the Python Standard Library included with PyInputPlus?\n",
    "Ans - No \n",
    "2. Why is PyInputPlus commonly imported with import pyinputplus as pypi?\n",
    "Ans : Sort or convention, else any name can be used in place of 'pyin'\n",
    "3. How do you distinguish between inputInt() and inputFloat()?\n",
    "And: Based on input it gives the message \n",
    "4. Using PyInputPlus, how do you ensure that the user enters a whole number between 0 and 99?\n",
    "Ans: We can use inputInt() function\n",
    "5. What is transferred to the keyword arguments allowRegexes and blockRegexes?\n",
    "Ans: A list of inputs which shall be allowed or rejected as valid input \n",
    "6. If a blank input is entered three times, what does inputStr(limit=3) do?\n",
    "Ans: Gives an excetion 'RetryLimitException: '\n",
    "7. If blank input is entered three times, what does inputStr(limit=3, default='hello') do?\n",
    "Ans: Prevent Exception error to happen\n"
   ]
  },
  {
   "cell_type": "code",
   "execution_count": null,
   "id": "9be8f167",
   "metadata": {},
   "outputs": [],
   "source": []
  }
 ],
 "metadata": {
  "kernelspec": {
   "display_name": "Python 3 (ipykernel)",
   "language": "python",
   "name": "python3"
  },
  "language_info": {
   "codemirror_mode": {
    "name": "ipython",
    "version": 3
   },
   "file_extension": ".py",
   "mimetype": "text/x-python",
   "name": "python",
   "nbconvert_exporter": "python",
   "pygments_lexer": "ipython3",
   "version": "3.9.7"
  }
 },
 "nbformat": 4,
 "nbformat_minor": 5
}
